{
 "cells": [
  {
   "cell_type": "code",
   "execution_count": null,
   "metadata": {},
   "outputs": [],
   "source": [
    "import librosa\n",
    "import numpy\n",
    "import csv"
   ]
  },
  {
   "cell_type": "code",
   "execution_count": null,
   "metadata": {},
   "outputs": [],
   "source": [
    "locations = []\n",
    "with open(\"/Users/Benjamin/Desktop/Genre_Classification/Data sets/Genres_songs_fixed.csv\") as csv_file:\n",
    "    genres = csv.DictReader(csv_file)\n",
    "    for i in genres:\n",
    "        locations.append(i[\"Location\"])"
   ]
  },
  {
   "cell_type": "code",
   "execution_count": null,
   "metadata": {},
   "outputs": [],
   "source": [
    "def load_300(batch_num):\n",
    "    start = 300 * batch_num\n",
    "    end = 300 * (batch_num + 1)\n",
    "    try:\n",
    "        locs = locations[start:end]\n",
    "    except IndexError:\n",
    "        locs = locations[start:]\n",
    "    \n",
    "    tmp = []\n",
    "    for i in locs:\n",
    "        y, sr = librosa.load(i)\n",
    "        y = librosa.effects.trim(y)[0]\n",
    "        intervals_indexes = librosa.effects.split(y = y)\n",
    "        \n",
    "        if len(intervals_indexes) > 1:\n",
    "            lst = []\n",
    "            for k in range(0, len(intervals_indexes)):\n",
    "                lst.append(y[intervals_indexes[k][0] : intervals_indexes[k][1]])\n",
    "            y = numpy.concatenate(lst)\n",
    "        \n",
    "        tmp.append(y)\n",
    "    \n",
    "    dest = \"/Volumes/Benjamin's iTunes Library/Music_Analysis/desilenced_loaded_files/batch\" + str(batch_num) + \".npz\"\n",
    "    numpy.savez(dest, *tmp, kwds = locs)"
   ]
  },
  {
   "cell_type": "code",
   "execution_count": null,
   "metadata": {},
   "outputs": [],
   "source": [
    "import time, sys\n",
    "from IPython.display import clear_output\n",
    "\n",
    "def update_progress(progress):\n",
    "    bar_length = 20\n",
    "    if isinstance(progress, int):\n",
    "        progress = float(progress)\n",
    "    if not isinstance(progress, float):\n",
    "        progress = 0\n",
    "    if progress < 0:\n",
    "        progress = 0\n",
    "    if progress >= 1:\n",
    "        progress = 1\n",
    "\n",
    "    block = int(round(bar_length * progress))\n",
    "\n",
    "    clear_output(wait = True)\n",
    "    text = \"Progress: [{0}] {1:.1f}%\".format( \"#\" * block + \"-\" * (bar_length - block), progress * 100)\n",
    "    print(text)"
   ]
  },
  {
   "cell_type": "code",
   "execution_count": null,
   "metadata": {},
   "outputs": [],
   "source": [
    "for j in range(0,21):\n",
    "    load_300(j)\n",
    "    update_progress((j + 1) / 21)\n",
    "\n",
    "update_progress(1)"
   ]
  },
  {
   "cell_type": "code",
   "execution_count": null,
   "metadata": {},
   "outputs": [],
   "source": [
    "#Remove silent frames from loaded files"
   ]
  },
  {
   "cell_type": "code",
   "execution_count": null,
   "metadata": {},
   "outputs": [],
   "source": [
    "def split_silence(batch_num):\n",
    "    file_path = \"/Volumes/Benjamin's iTunes Library/Music_Analysis/loaded_files\" + str(batch_num) + \".npz\"\n",
    "    arrays = numpy.load(file_path)\n",
    "\n",
    "    new_files = []\n",
    "    for i in range(0,(len(arrays) - 1)):\n",
    "        audio = \"arr_\" + str(i)\n",
    "        y = arrays[audio]\n",
    "        intervals_indexes = librosa.effects.split(y = y)\n",
    "        \n",
    "        if len(intervals_indexes) > 1:\n",
    "            lst = []\n",
    "            for k in range(0, len(intervals_indexes)):\n",
    "                lst.append(y[intervals_indexes[k][0] : intervals_indexes[k][1]])\n",
    "            y = numpy.concatenate(lst)\n",
    "            \n",
    "        new_files.append(y)\n",
    "\n",
    "    numpy.savez(\"/Volumes/Benjamin's iTunes Library/Music_Analysis/desilenced_loaded_files/batch\" + str(batch_num) + \".npz\", *new_files, kwds = arrays[\"kwds\"])"
   ]
  },
  {
   "cell_type": "code",
   "execution_count": null,
   "metadata": {},
   "outputs": [],
   "source": [
    "for j in range(0,21):\n",
    "    split_silence(j)\n",
    "    update_progress((j + 1) / 21)\n",
    "update_progress(1)"
   ]
  },
  {
   "cell_type": "code",
   "execution_count": null,
   "metadata": {},
   "outputs": [],
   "source": [
    "#centroid"
   ]
  },
  {
   "cell_type": "code",
   "execution_count": null,
   "metadata": {},
   "outputs": [],
   "source": [
    "def centroid(batch_num):\n",
    "    file_path = \"/Volumes/Benjamin's iTunes Library/Music_Analysis/desilenced_loaded_files/batch\" + str(batch_num) + \".npz\"\n",
    "    arrays = numpy.load(file_path)\n",
    "\n",
    "    centroids = []\n",
    "    for i in range(0,(len(arrays) - 1)):\n",
    "        audio = \"arr_\" + str(i)\n",
    "        feature = librosa.feature.spectral_centroid(y = arrays[audio], sr = 22050)[0]\n",
    "        centroids.append(feature)\n",
    "\n",
    "    numpy.savez(\"/Volumes/Benjamin's iTunes Library/Music_Analysis/centroid/batch\" + str(batch_num) + \".npz\", *centroids, kwds = arrays[\"kwds\"])"
   ]
  },
  {
   "cell_type": "code",
   "execution_count": null,
   "metadata": {},
   "outputs": [],
   "source": [
    "for j in range(0,21):\n",
    "    centroid(j)\n",
    "    update_progress((j + 1) / 21)\n",
    "update_progress(1)"
   ]
  },
  {
   "cell_type": "code",
   "execution_count": null,
   "metadata": {},
   "outputs": [],
   "source": [
    "#chromagram"
   ]
  },
  {
   "cell_type": "code",
   "execution_count": null,
   "metadata": {},
   "outputs": [],
   "source": [
    "def chromagram(batch_num):\n",
    "    file_path = \"/Volumes/Benjamin's iTunes Library/Music_Analysis/desilenced_loaded_files/batch\" + str(batch_num) + \".npz\"\n",
    "    arrays = numpy.load(file_path)\n",
    "\n",
    "    chromas = []\n",
    "    for i in range(0,(len(arrays) - 1)):\n",
    "        audio = \"arr_\" + str(i)\n",
    "        feature = librosa.feature.chroma_stft(y = arrays[audio], sr = 22050)\n",
    "        chromas.append(feature)\n",
    "\n",
    "    numpy.savez(\"/Volumes/Benjamin's iTunes Library/Music_Analysis/chromagram/batch\" + str(batch_num) + \".npz\", *chromas, kwds = arrays[\"kwds\"])"
   ]
  },
  {
   "cell_type": "code",
   "execution_count": null,
   "metadata": {},
   "outputs": [],
   "source": [
    "for j in range(0,21):\n",
    "    chromagram(j)\n",
    "    update_progress((j + 1) / 21)\n",
    "update_progress(1)"
   ]
  },
  {
   "cell_type": "code",
   "execution_count": null,
   "metadata": {},
   "outputs": [],
   "source": [
    "#MFCC"
   ]
  },
  {
   "cell_type": "code",
   "execution_count": null,
   "metadata": {},
   "outputs": [],
   "source": [
    "def mfcc(batch_num):\n",
    "    file_path = \"/Volumes/Benjamin's iTunes Library/Music_Analysis/desilenced_loaded_files/batch\" + str(batch_num) + \".npz\"\n",
    "    arrays = numpy.load(file_path)\n",
    "\n",
    "    mfccs = []\n",
    "    for i in range(0,(len(arrays) - 1)):\n",
    "        audio = \"arr_\" + str(i)\n",
    "        feature = librosa.feature.mfcc(y = arrays[audio], sr = 22050)\n",
    "        mfccs.append(feature)\n",
    "\n",
    "    numpy.savez(\"/Volumes/Benjamin's iTunes Library/Music_Analysis/mfcc/batch\" + str(batch_num) + \".npz\", *mfccs, kwds = arrays[\"kwds\"])"
   ]
  },
  {
   "cell_type": "code",
   "execution_count": null,
   "metadata": {},
   "outputs": [],
   "source": [
    "for j in range(0,21):\n",
    "    mfcc(j)\n",
    "    update_progress((j + 1) / 21)\n",
    "update_progress(1)"
   ]
  },
  {
   "cell_type": "code",
   "execution_count": null,
   "metadata": {},
   "outputs": [],
   "source": [
    "#poly coefs"
   ]
  },
  {
   "cell_type": "code",
   "execution_count": null,
   "metadata": {},
   "outputs": [],
   "source": [
    "def order0(batch_num):\n",
    "    file_path = \"/Volumes/Benjamin's iTunes Library/Music_Analysis/desilenced_loaded_files/batch\" + str(batch_num) + \".npz\"\n",
    "    arrays = numpy.load(file_path)\n",
    "\n",
    "    coefs = []\n",
    "    for i in range(0,(len(arrays) - 1)):\n",
    "        audio = \"arr_\" + str(i)\n",
    "        feature = librosa.feature.poly_features(y = arrays[audio], order = 0)[0]\n",
    "        coefs.append(feature)\n",
    "\n",
    "    numpy.savez(\"/Volumes/Benjamin's iTunes Library/Music_Analysis/polys_order0/batch\" + str(batch_num) + \".npz\", *coefs, kwds = arrays[\"kwds\"])"
   ]
  },
  {
   "cell_type": "code",
   "execution_count": null,
   "metadata": {},
   "outputs": [],
   "source": [
    "for j in range(0,21):\n",
    "    order0(j)\n",
    "    update_progress((j + 1) / 21)\n",
    "update_progress(1)"
   ]
  },
  {
   "cell_type": "code",
   "execution_count": null,
   "metadata": {},
   "outputs": [],
   "source": [
    "def order1(batch_num):\n",
    "    file_path = \"/Volumes/Benjamin's iTunes Library/Music_Analysis/desilenced_loaded_files/batch\" + str(batch_num) + \".npz\"\n",
    "    arrays = numpy.load(file_path)\n",
    "\n",
    "    coefs = []\n",
    "    for i in range(0,(len(arrays) - 1)):\n",
    "        audio = \"arr_\" + str(i)\n",
    "        feature = librosa.feature.poly_features(y = arrays[audio], order = 1)\n",
    "        coefs.append(feature)\n",
    "\n",
    "    numpy.savez(\"/Volumes/Benjamin's iTunes Library/Music_Analysis/polys_order1/batch\" + str(batch_num) + \".npz\", *coefs, kwds = arrays[\"kwds\"])"
   ]
  },
  {
   "cell_type": "code",
   "execution_count": null,
   "metadata": {},
   "outputs": [],
   "source": [
    "for j in range(0,21):\n",
    "    order1(j)\n",
    "    update_progress((j + 1) / 21)\n",
    "update_progress(1)"
   ]
  },
  {
   "cell_type": "code",
   "execution_count": null,
   "metadata": {},
   "outputs": [],
   "source": [
    "def order2(batch_num):\n",
    "    file_path = \"/Volumes/Benjamin's iTunes Library/Music_Analysis/desilenced_loaded_files/batch\" + str(batch_num) + \".npz\"\n",
    "    arrays = numpy.load(file_path)\n",
    "\n",
    "    coefs = []\n",
    "    for i in range(0,(len(arrays) - 1)):\n",
    "        audio = \"arr_\" + str(i)\n",
    "        feature = librosa.feature.poly_features(y = arrays[audio], order = 2)\n",
    "        coefs.append(feature)\n",
    "\n",
    "    numpy.savez(\"/Volumes/Benjamin's iTunes Library/Music_Analysis/polys_order2/batch\" + str(batch_num) + \".npz\", *coefs, kwds = arrays[\"kwds\"])"
   ]
  },
  {
   "cell_type": "code",
   "execution_count": null,
   "metadata": {},
   "outputs": [],
   "source": [
    "for j in range(0,21):\n",
    "    order2(j)\n",
    "    update_progress((j + 1) / 21)\n",
    "update_progress(1)"
   ]
  },
  {
   "cell_type": "code",
   "execution_count": null,
   "metadata": {},
   "outputs": [],
   "source": [
    "def order3(batch_num):\n",
    "    file_path = \"/Volumes/Benjamin's iTunes Library/Music_Analysis/desilenced_loaded_files/batch\" + str(batch_num) + \".npz\"\n",
    "    arrays = numpy.load(file_path)\n",
    "\n",
    "    coefs = []\n",
    "    for i in range(0,(len(arrays) - 1)):\n",
    "        audio = \"arr_\" + str(i)\n",
    "        feature = librosa.feature.poly_features(y = arrays[audio], order = 3)\n",
    "        coefs.append(feature)\n",
    "\n",
    "    numpy.savez(\"/Volumes/Benjamin's iTunes Library/Music_Analysis/polys_order3/batch\" + str(batch_num) + \".npz\", *coefs, kwds = arrays[\"kwds\"])"
   ]
  },
  {
   "cell_type": "code",
   "execution_count": null,
   "metadata": {},
   "outputs": [],
   "source": [
    "for j in range(0,21):\n",
    "    order3(j)\n",
    "    update_progress((j + 1) / 21)\n",
    "update_progress(1)"
   ]
  },
  {
   "cell_type": "code",
   "execution_count": null,
   "metadata": {},
   "outputs": [],
   "source": [
    "#rms"
   ]
  },
  {
   "cell_type": "code",
   "execution_count": null,
   "metadata": {},
   "outputs": [],
   "source": [
    "def rms(batch_num):\n",
    "    file_path = \"/Volumes/Benjamin's iTunes Library/Music_Analysis/desilenced_loaded_files/batch\" + str(batch_num) + \".npz\"\n",
    "    arrays = numpy.load(file_path)\n",
    "\n",
    "    rmss = []\n",
    "    for i in range(0,(len(arrays) - 1)):\n",
    "        audio = \"arr_\" + str(i)\n",
    "        feature = librosa.feature.rms(y = arrays[audio])[0]\n",
    "        rmss.append(feature)\n",
    "\n",
    "    numpy.savez(\"/Volumes/Benjamin's iTunes Library/Music_Analysis/rms/batch\" + str(batch_num) + \".npz\", *rmss, kwds = arrays[\"kwds\"])"
   ]
  },
  {
   "cell_type": "code",
   "execution_count": null,
   "metadata": {},
   "outputs": [],
   "source": [
    "for j in range(0,21):\n",
    "    rms(j)\n",
    "    update_progress((j + 1) / 21)\n",
    "update_progress(1)"
   ]
  },
  {
   "cell_type": "code",
   "execution_count": null,
   "metadata": {},
   "outputs": [],
   "source": [
    "#spectral rolloff"
   ]
  },
  {
   "cell_type": "code",
   "execution_count": null,
   "metadata": {},
   "outputs": [],
   "source": [
    "def rolloff_85(batch_num):\n",
    "    file_path = \"/Volumes/Benjamin's iTunes Library/Music_Analysis/desilenced_loaded_files/batch\" + str(batch_num) + \".npz\"\n",
    "    arrays = numpy.load(file_path)\n",
    "\n",
    "    rolloffs = []\n",
    "    for i in range(0,(len(arrays) - 1)):\n",
    "        audio = \"arr_\" + str(i)\n",
    "        feature = librosa.feature.spectral_rolloff(y = arrays[audio], sr = 22050, roll_percent = 0.85)\n",
    "        rolloffs.append(feature)\n",
    "\n",
    "    numpy.savez(\"/Volumes/Benjamin's iTunes Library/Music_Analysis/rolloff85/batch\" + str(batch_num) + \".npz\", *rolloffs, kwds = arrays[\"kwds\"])"
   ]
  },
  {
   "cell_type": "code",
   "execution_count": null,
   "metadata": {},
   "outputs": [],
   "source": [
    "for j in range(0,21):\n",
    "    rolloff_85(j)\n",
    "    update_progress((j + 1) / 21)\n",
    "update_progress(1)"
   ]
  },
  {
   "cell_type": "code",
   "execution_count": null,
   "metadata": {},
   "outputs": [],
   "source": [
    "def rolloff_10(batch_num):\n",
    "    file_path = \"/Volumes/Benjamin's iTunes Library/Music_Analysis/desilenced_loaded_files/batch\" + str(batch_num) + \".npz\"\n",
    "    arrays = numpy.load(file_path)\n",
    "\n",
    "    rolloffs = []\n",
    "    for i in range(0,(len(arrays) - 1)):\n",
    "        audio = \"arr_\" + str(i)\n",
    "        feature = librosa.feature.spectral_rolloff(y = arrays[audio], sr = 22050, roll_percent = 0.1)\n",
    "        rolloffs.append(feature)\n",
    "\n",
    "    numpy.savez(\"/Volumes/Benjamin's iTunes Library/Music_Analysis/rolloff10/batch\" + str(batch_num) + \".npz\", *rolloffs, kwds = arrays[\"kwds\"])"
   ]
  },
  {
   "cell_type": "code",
   "execution_count": null,
   "metadata": {},
   "outputs": [],
   "source": [
    "for j in range(0,21):\n",
    "    rolloff_10(j)\n",
    "    update_progress((j + 1) / 21)\n",
    "    \n",
    "update_progress(1)"
   ]
  },
  {
   "cell_type": "code",
   "execution_count": null,
   "metadata": {},
   "outputs": [],
   "source": [
    "#spectral bandwidth"
   ]
  },
  {
   "cell_type": "code",
   "execution_count": null,
   "metadata": {},
   "outputs": [],
   "source": [
    "def spectral_bandwidth(batch_num):\n",
    "    file_path = \"/Volumes/Benjamin's iTunes Library/Music_Analysis/desilenced_loaded_files/batch\" + str(batch_num) + \".npz\"\n",
    "    arrays = numpy.load(file_path)\n",
    "\n",
    "    bandwidths = []\n",
    "    for i in range(0,(len(arrays) - 1)):\n",
    "        audio = \"arr_\" + str(i)\n",
    "        feature = librosa.feature.spectral_bandwidth(y = arrays[audio], sr = 22050)[0]\n",
    "        bandwidths.append(feature)\n",
    "\n",
    "    numpy.savez(\"/Volumes/Benjamin's iTunes Library/Music_Analysis/spectral_bandwidth/batch\" + str(batch_num) + \".npz\", *bandwidths, kwds = arrays[\"kwds\"])"
   ]
  },
  {
   "cell_type": "code",
   "execution_count": null,
   "metadata": {},
   "outputs": [],
   "source": [
    "for j in range(0,21):\n",
    "    spectral_bandwidth(j)\n",
    "    update_progress((j + 1) / 21)\n",
    "update_progress(1)"
   ]
  },
  {
   "cell_type": "code",
   "execution_count": null,
   "metadata": {},
   "outputs": [],
   "source": [
    "#spectral contrast"
   ]
  },
  {
   "cell_type": "code",
   "execution_count": null,
   "metadata": {},
   "outputs": [],
   "source": [
    "def spectral_contrast(batch_num):\n",
    "    file_path = \"/Volumes/Benjamin's iTunes Library/Music_Analysis/desilenced_loaded_files/batch\" + str(batch_num) + \".npz\"\n",
    "    arrays = numpy.load(file_path)\n",
    "\n",
    "    contrasts = []\n",
    "    for i in range(0,(len(arrays) - 1)):\n",
    "        audio = \"arr_\" + str(i)\n",
    "        feature = librosa.feature.spectral_contrast(y = arrays[audio], sr = 22050)\n",
    "        contrasts.append(feature)\n",
    "\n",
    "    numpy.savez(\"/Volumes/Benjamin's iTunes Library/Music_Analysis/spectral_contrast/batch\" + str(batch_num) + \".npz\", *contrasts, kwds = arrays[\"kwds\"])"
   ]
  },
  {
   "cell_type": "code",
   "execution_count": null,
   "metadata": {},
   "outputs": [],
   "source": [
    "for j in range(0,21):\n",
    "    spectral_contrast(j)\n",
    "    update_progress((j + 1) / 21)\n",
    "update_progress(1)"
   ]
  },
  {
   "cell_type": "code",
   "execution_count": null,
   "metadata": {},
   "outputs": [],
   "source": [
    "#spectral flatness"
   ]
  },
  {
   "cell_type": "code",
   "execution_count": null,
   "metadata": {},
   "outputs": [],
   "source": [
    "def spectral_flatness(batch_num):\n",
    "    file_path = \"/Volumes/Benjamin's iTunes Library/Music_Analysis/desilenced_loaded_files/batch\" + str(batch_num) + \".npz\"\n",
    "    arrays = numpy.load(file_path)\n",
    "\n",
    "    flats = []\n",
    "    for i in range(0,(len(arrays) - 1)):\n",
    "        audio = \"arr_\" + str(i)\n",
    "        feature = librosa.feature.spectral_flatness(y = arrays[audio])[0]\n",
    "        flats.append(feature)\n",
    "\n",
    "    numpy.savez(\"/Volumes/Benjamin's iTunes Library/Music_Analysis/spectral_flatness/batch\" + str(batch_num) + \".npz\", *flats, kwds = arrays[\"kwds\"])"
   ]
  },
  {
   "cell_type": "code",
   "execution_count": null,
   "metadata": {},
   "outputs": [],
   "source": [
    "for j in range(0,21):\n",
    "    spectral_flatness(j)\n",
    "    update_progress((j + 1) / 21)\n",
    "update_progress(1)"
   ]
  },
  {
   "cell_type": "code",
   "execution_count": null,
   "metadata": {},
   "outputs": [],
   "source": [
    "#tonal centroid features"
   ]
  },
  {
   "cell_type": "code",
   "execution_count": null,
   "metadata": {},
   "outputs": [],
   "source": [
    "def tntz(batch_num):\n",
    "    file_path = \"/Volumes/Benjamin's iTunes Library/Music_Analysis/chromagram/batch\" + str(batch_num) + \".npz\"\n",
    "    arrays = numpy.load(file_path)\n",
    "\n",
    "    centroid_features = []\n",
    "    for i in range(0,(len(arrays) - 1)):\n",
    "        audio = \"arr_\" + str(i)\n",
    "        feature = librosa.feature.tonnetz(sr = 22050, chroma = arrays[audio])\n",
    "        centroid_features.append(feature)\n",
    "\n",
    "    numpy.savez(\"/Volumes/Benjamin's iTunes Library/Music_Analysis/tonal_centroid_features/batch\" + str(batch_num) + \".npz\", *centroid_features, kwds = arrays[\"kwds\"])"
   ]
  },
  {
   "cell_type": "code",
   "execution_count": null,
   "metadata": {},
   "outputs": [],
   "source": [
    "for j in range(0,21):\n",
    "    tntz(j)\n",
    "    update_progress((j + 1) / 21)\n",
    "update_progress(1)"
   ]
  },
  {
   "cell_type": "code",
   "execution_count": null,
   "metadata": {},
   "outputs": [],
   "source": [
    "#zero crossing rate"
   ]
  },
  {
   "cell_type": "code",
   "execution_count": null,
   "metadata": {},
   "outputs": [],
   "source": [
    "def zero_crossing(batch_num):\n",
    "    file_path = \"/Volumes/Benjamin's iTunes Library/Music_Analysis/desilenced_loaded_files/batch\" + str(batch_num) + \".npz\"\n",
    "    arrays = numpy.load(file_path)\n",
    "\n",
    "    rates = []\n",
    "    for i in range(0,(len(arrays) - 1)):\n",
    "        audio = \"arr_\" + str(i)\n",
    "        feature = librosa.feature.zero_crossing_rate(y = arrays[audio])[0]\n",
    "        rates.append(feature)\n",
    "\n",
    "    numpy.savez(\"/Volumes/Benjamin's iTunes Library/Music_Analysis/zero_crossing_rates/batch\" + str(batch_num) + \".npz\", *rates, kwds = arrays[\"kwds\"])"
   ]
  },
  {
   "cell_type": "code",
   "execution_count": null,
   "metadata": {},
   "outputs": [],
   "source": [
    "for j in range(0,21):\n",
    "    zero_crossing(j)\n",
    "    update_progress((j + 1) / 21)\n",
    "update_progress(1)"
   ]
  }
 ],
 "metadata": {
  "kernelspec": {
   "display_name": "Python 3",
   "language": "python",
   "name": "python3"
  },
  "language_info": {
   "codemirror_mode": {
    "name": "ipython",
    "version": 3
   },
   "file_extension": ".py",
   "mimetype": "text/x-python",
   "name": "python",
   "nbconvert_exporter": "python",
   "pygments_lexer": "ipython3",
   "version": "3.7.3"
  }
 },
 "nbformat": 4,
 "nbformat_minor": 2
}
